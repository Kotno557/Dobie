{
 "cells": [
  {
   "cell_type": "code",
   "execution_count": 1,
   "id": "eb32155a-3736-4cba-8c5e-fdd8b2bfb821",
   "metadata": {
    "tags": []
   },
   "outputs": [],
   "source": [
    "import requests\n",
    "import sys\n",
    "import os\n",
    "import re\n",
    "import json"
   ]
  },
  {
   "cell_type": "code",
   "execution_count": 2,
   "id": "cbc1ea5a-d281-42b8-9e8d-2351f611ff65",
   "metadata": {
    "tags": []
   },
   "outputs": [],
   "source": [
    "DEBUG_MOD = True\n",
    "SECURITY_FILE = 'default_cleannetwork.json'\n",
    "INFO = None\n",
    "CLEAN_LEVEL = {3:'HIGH',2:'PASSABLE',1:'LOW',0:'UNKNOW',-1:'DANGER'}"
   ]
  },
  {
   "cell_type": "code",
   "execution_count": 3,
   "id": "1128f809-306a-4451-b6d0-0d9a24599468",
   "metadata": {
    "tags": []
   },
   "outputs": [],
   "source": [
    "def get_router_telecom():\n",
    "    global INFO\n",
    "    return INFO['asn']['descr']"
   ]
  },
  {
   "cell_type": "code",
   "execution_count": 4,
   "id": "f6fe731c-a4a9-44b1-9916-924ebb9bbb80",
   "metadata": {},
   "outputs": [],
   "source": [
    "def get_router_location():\n",
    "    global INFO\n",
    "    return INFO['location']['country_code']"
   ]
  },
  {
   "cell_type": "code",
   "execution_count": 5,
   "id": "3f705dd1-033d-4e3a-81a2-84cd576d9e47",
   "metadata": {},
   "outputs": [],
   "source": [
    "def get_router_brand(ip_address):\n",
    "    nmap_scan_result=os.popen(f'sudo nmap -sV -sU -p 161 --script=snmp-info {ip_address}').read().split('\\n')\n",
    "    # if DEBUG_MOD:\n",
    "    #     print(nmap_scan_result)\n",
    "    for i in nmap_scan_result:\n",
    "        if 'enterprise:' in i :\n",
    "            print(i.split('enterprise:')[1].strip())\n",
    "            return i.split('enterprise:')[1].strip()\n",
    "    print('brand not found')\n",
    "    return None"
   ]
  },
  {
   "cell_type": "code",
   "execution_count": 6,
   "id": "1708e573-a152-4cd2-b176-2981bfc2c4e6",
   "metadata": {
    "tags": []
   },
   "outputs": [],
   "source": [
    "def security_level_analysis(isp_name,enterprise_name):\n",
    "    with open(SECURITY_FILE) as file_input:\n",
    "        clean_network_list = json.load(file_input)\n",
    "    # if DEBUG_MOD:\n",
    "    #     print(clean_network_list)\n",
    "    if isp_name in clean_network_list['isp']['clean']:\n",
    "        if enterprise_name in clean_network_list['hdm']['clean']:\n",
    "            return 3\n",
    "        if enterprise_name in clean_network_list['hdm']['unclean']:\n",
    "            return -1\n",
    "        else:\n",
    "            return 1\n",
    "    elif isp_name in clean_network_list['isp']['unclean']:\n",
    "        return -1\n",
    "    else:\n",
    "        if enterprise_name in clean_network_list['hdm']['clean']:\n",
    "            return 2\n",
    "        if enterprise_name in clean_network_list['hdm']['unclean']:\n",
    "            return -1\n",
    "        else:\n",
    "            return 0\n",
    "    "
   ]
  },
  {
   "cell_type": "code",
   "execution_count": 7,
   "id": "9284a767",
   "metadata": {
    "tags": []
   },
   "outputs": [],
   "source": [
    "def main(ip):\n",
    "    global INFO\n",
    "    INFO = requests.get(f'https://api.incolumitas.com/?q={ip}').json()\n",
    "    if DEBUG_MOD:\n",
    "        print(INFO)\n",
    "    level = security_level_analysis(get_router_telecom(),get_router_brand(ip))\n",
    "    print(CLEAN_LEVEL[security_level_analysis(get_router_telecom(),get_router_brand(ip))])\n",
    "    return level"
   ]
  },
  {
   "cell_type": "code",
   "execution_count": 8,
   "id": "8ed315f0-2d47-42dc-b4d4-27d47f9438dc",
   "metadata": {},
   "outputs": [
    {
     "name": "stdout",
     "output_type": "stream",
     "text": [
      "{'ip': '202.164.134.253', 'rir': 'APNIC', 'is_bogon': False, 'is_datacenter': False, 'is_tor': False, 'is_proxy': False, 'is_vpn': False, 'is_abuser': False, 'company': {'name': 'Asianet Satellite Communications Pvt Ltd', 'domain': 'asianet.co.in', 'type': 'business', 'network': '202.164.128.0 - 202.164.159.255', 'whois': 'https://ipapi.is/json/?whois=202.164.128.0'}, 'asn': {'asn': 17465, 'route': '202.164.134.0/24', 'descr': 'ASIANET Cable ISP in India, IN', 'country': 'in', 'active': True, 'org': 'Asianet Satellite Communications Pvt Ltd', 'domain': 'asianet.co.in', 'abuse': 'abuse-reports@asianet.co.in', 'type': 'business', 'updated': '2020-07-22', 'rir': 'apnic', 'whois': 'https://ipapi.is/json/?whois=AS17465'}, 'location': {'country': 'India', 'country_code': 'IN', 'state': 'Andhra Pradesh', 'city': 'Nellore', 'latitude': 14.43333, 'longitude': 79.96667, 'zip': '524308', 'timezone': 'Asia/Kolkata', 'local_time': '2023-06-14T13:56:42+05:30', 'local_time_unix': 1686731202, 'is_dst': False}, 'elapsed_ms': 1}\n",
      "['Starting Nmap 7.80 ( https://nmap.org ) at 2023-06-14 16:26 CST', 'Nmap scan report for 253.134.164.202.asianet.co.in (202.164.134.253)', 'Host is up (0.088s latency).', '', 'PORT    STATE SERVICE VERSION', '161/udp open  snmp    HUAWEI Technology Co.,Ltd SNMPv3 server', '| snmp-info: ', '|   enterprise: HUAWEI Technology Co.,Ltd', '|   engineIDFormat: mac', '|   engineIDData: 14:09:dc:b2:5e:70', '|   snmpEngineBoots: 21', '|_  snmpEngineTime: 109d06h22m27s', '', 'Service detection performed. Please report any incorrect results at https://nmap.org/submit/ .', 'Nmap done: 1 IP address (1 host up) scanned in 99.03 seconds', '']\n",
      "HUAWEI Technology Co.,Ltd\n"
     ]
    },
    {
     "data": {
      "text/plain": [
       "'DANGER'"
      ]
     },
     "execution_count": 8,
     "metadata": {},
     "output_type": "execute_result"
    }
   ],
   "source": [
    "if __name__ == '__main__':\n",
    "    main()"
   ]
  }
 ],
 "metadata": {
  "kernelspec": {
   "display_name": "Python 3 (ipykernel)",
   "language": "python",
   "name": "python3"
  },
  "language_info": {
   "codemirror_mode": {
    "name": "ipython",
    "version": 3
   },
   "file_extension": ".py",
   "mimetype": "text/x-python",
   "name": "python",
   "nbconvert_exporter": "python",
   "pygments_lexer": "ipython3",
   "version": "3.11.0rc1"
  }
 },
 "nbformat": 4,
 "nbformat_minor": 5
}
