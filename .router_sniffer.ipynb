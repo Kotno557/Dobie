{
 "cells": [
  {
   "cell_type": "code",
   "execution_count": 103,
   "id": "0b364915-f75e-424e-aed2-bf28d62eed14",
   "metadata": {
    "tags": []
   },
   "outputs": [],
   "source": [
    "import socket \n",
    "import sys\n",
    "import json\n",
    "import requests\n",
    "import time\n",
    "from scapy.all import *"
   ]
  },
  {
   "cell_type": "code",
   "execution_count": 105,
   "id": "0bda818d-961a-4991-8858-4c87801b57b1",
   "metadata": {
    "tags": []
   },
   "outputs": [],
   "source": [
    "DEBUG_MOD = True\n",
    "MAIN_TARGET = None"
   ]
  },
  {
   "cell_type": "code",
   "execution_count": 107,
   "id": "411ce8ea-1d21-4c88-aff4-b59c2a4deca2",
   "metadata": {},
   "outputs": [],
   "source": [
    "def run_dublin_traceroute():\n",
    "    # 執行 Dublin-traceroute\n",
    "    print(f'正在對 {MAIN_TARGET} 執行 Dublin-traceroute...', end='')\n",
    "    os.system(f'dublin-traceroute -n 5 {MAIN_TARGET} > /dev/null')\n",
    "    # 讀取路徑追蹤資料\n",
    "    with open('trace.json', 'r') as f:\n",
    "        trace_data = json.load(f)\n",
    "        print('完成')\n",
    "        return trace_data"
   ]
  },
  {
   "cell_type": "code",
   "execution_count": 108,
   "id": "6167e9d5-b649-4559-98a2-5302c8f7e59b",
   "metadata": {},
   "outputs": [],
   "source": [
    "def snmp_helper(trace_data):\n",
    "    # 儲存 TTL 與 IP 位址的對應關係\n",
    "    ttl_history = {}\n",
    "    # 針對每一條路徑追蹤資料進行處理\n",
    "    for flow_id in trace_data['flows']:\n",
    "        flow = trace_data['flows'][flow_id]\n",
    "        if DEBUG_MOD:\n",
    "            print(f'--{flow_id}--')\n",
    "        \n",
    "        # 針對每一個跳躍回應進行處理\n",
    "        for hop_response_id in range(0,len(flow)):\n",
    "            ttl = hop_response_id+1\n",
    "            receive_ip = None if not flow[hop_response_id]['received'] else flow[hop_response_id]['received']['ip']['src']\n",
    "            # 如果沒有回應，則嘗試從 TTL 對應的 IP 位址紀錄中取得結果\n",
    "            # 目前先不開紀錄，確保封包探測的準確率提高\n",
    "            if receive_ip==None:\n",
    "                # if ttl in ttl_history:\n",
    "                #     trace_data['flows'][flow_id][hop_response_id]=ttl_history[ttl]\n",
    "                # else:\n",
    "                #     trace_data['flows'][flow_id][hop_response_id]=packet_track(ttl, MAIN_TARGET)\n",
    "                trace_data['flows'][flow_id][hop_response_id]=None\n",
    "            # 如果有回應，則直接將 IP 位址紀錄到路徑追蹤資料中\n",
    "            else:\n",
    "                temp = trace_data['flows'][flow_id][hop_response_id]['received']['ip']['src']\n",
    "                trace_data['flows'][flow_id][hop_response_id] = temp\n",
    "                if DEBUG_MOD:\n",
    "                    print(f'TTL {ttl} 為 Dublin-traceroute 找到的結果為 {temp}')\n",
    "    if DEBUG_MOD:\n",
    "        print(trace_data)\n",
    "    return trace_data\n"
   ]
  },
  {
   "cell_type": "code",
   "execution_count": 109,
   "id": "2d02d3c3-644e-4d53-bf09-6bec7151e907",
   "metadata": {
    "tags": []
   },
   "outputs": [],
   "source": [
    "def packet_track(ttl, target_ip_address, test_count=3, wait_time=2):\n",
    "    # 回傳可能的IP集合\n",
    "    res = set()\n",
    "    # 建立 ICMP 封包\n",
    "    trace_type = [ICMP(), TCP(flags='S'), UDP()]\n",
    "    for t in trace_type:\n",
    "        packet = IP(dst=target_ip_address, ttl=ttl) / t\n",
    "        for i in range(test_count):\n",
    "            # 傳送封包並接收回傳的封包\n",
    "            response_packet = sr1(packet, verbose=False, timeout=wait_time)\n",
    "            # 檢查是否有回傳的封包\n",
    "            if response_packet is not None:\n",
    "                # 印出回傳的封包資訊\n",
    "                res.add(response_packet.getlayer(IP).src)\n",
    "    if DEBUG_MOD:\n",
    "        print(f'TTL {ttl} 為封包探測找到的結果 {list(res)} (只是猜測)')\n",
    "\n",
    "    return list(res) if len(res)!=0 else None"
   ]
  },
  {
   "cell_type": "code",
   "execution_count": 110,
   "id": "6269aa41-7eb4-4d9b-a91d-009e6e66234f",
   "metadata": {
    "tags": []
   },
   "outputs": [],
   "source": [
    "def main(ip):\n",
    "    global MAIN_TARGET\n",
    "    MAIN_TARGET = ip\n",
    "    # 從命令列參數檢查目標 IP 位址\n",
    "    search = requests.get(f'http://144.24.84.156/path?ip={MAIN_TARGET}').json()\n",
    "    if search != None and time.time()-float(search['time'])<300:\n",
    "        with open('trace_optimized.json', 'w') as f:\n",
    "            f.write(search['value'])\n",
    "        print(\"完成！(根據紀錄資料)\")\n",
    "    else:\n",
    "        # 執行 Dublin Traceroute，取得路徑追蹤資料\n",
    "        trace_data = run_dublin_traceroute()\n",
    "        # 透過 SNMP 協助最佳化路徑追蹤資料\n",
    "        trace_data_after_snmp_asistance = snmp_helper(trace_data)\n",
    "        # 將最佳化後的路徑追蹤資料寫入 JSON 檔案\n",
    "        with open('trace_optimized.json', 'w') as f:\n",
    "            f.write(json.dumps(trace_data_after_snmp_asistance))\n",
    "        requests.post(f'http://144.24.84.156/path',data={'ip':MAIN_TARGET,'time':str(time.time()),'value':str(json.dumps(trace_data_after_snmp_asistance))})\n",
    "        # 印出完成訊息\n",
    "        print(\"完成！\")"
   ]
  },
  {
   "cell_type": "code",
   "execution_count": 112,
   "id": "16df9324-8acd-475c-b967-2ce2e4a733a4",
   "metadata": {
    "tags": []
   },
   "outputs": [
    {
     "name": "stdout",
     "output_type": "stream",
     "text": [
      "完成！(根據紀錄資料)\n"
     ]
    }
   ],
   "source": [
    "if __name__ == '__main__':\n",
    "    main()"
   ]
  }
 ],
 "metadata": {
  "kernelspec": {
   "display_name": "Python 3 (ipykernel)",
   "language": "python",
   "name": "python3"
  },
  "language_info": {
   "codemirror_mode": {
    "name": "ipython",
    "version": 3
   },
   "file_extension": ".py",
   "mimetype": "text/x-python",
   "name": "python",
   "nbconvert_exporter": "python",
   "pygments_lexer": "ipython3",
   "version": "3.11.0"
  }
 },
 "nbformat": 4,
 "nbformat_minor": 5
}
