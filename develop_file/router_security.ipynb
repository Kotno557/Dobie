{
 "cells": [
  {
   "cell_type": "code",
   "execution_count": 11,
   "id": "eb32155a-3736-4cba-8c5e-fdd8b2bfb821",
   "metadata": {
    "tags": []
   },
   "outputs": [],
   "source": [
    "import requests\n",
    "import sys\n",
    "import os\n",
    "import re\n",
    "import json\n",
    "import ipaddress\n",
    "from functools import reduce"
   ]
  },
  {
   "cell_type": "code",
   "execution_count": 12,
   "id": "cbc1ea5a-d281-42b8-9e8d-2351f611ff65",
   "metadata": {
    "tags": []
   },
   "outputs": [],
   "source": [
    "DEBUG_MOD = True\n",
    "SECURITY_FILE = 'default_cleannetwork.json'\n",
    "INFO = None\n",
    "CLEAN_LEVEL = {3:'HIGH',2:'PASSABLE',1:'LOW',0:'UNKNOW',-1:'DANGER'}"
   ]
  },
  {
   "cell_type": "code",
   "execution_count": 13,
   "id": "1128f809-306a-4451-b6d0-0d9a24599468",
   "metadata": {
    "tags": []
   },
   "outputs": [],
   "source": [
    "def get_router_telecom():\n",
    "    global INFO\n",
    "    return INFO['asn']['descr']"
   ]
  },
  {
   "cell_type": "code",
   "execution_count": 14,
   "id": "f6fe731c-a4a9-44b1-9916-924ebb9bbb80",
   "metadata": {},
   "outputs": [],
   "source": [
    "def get_router_location():\n",
    "    global INFO\n",
    "    return INFO['location']['country_code']"
   ]
  },
  {
   "cell_type": "code",
   "execution_count": 15,
   "id": "3f705dd1-033d-4e3a-81a2-84cd576d9e47",
   "metadata": {},
   "outputs": [],
   "source": [
    "def get_router_brand(ip_address):\n",
    "    nmap_scan_result=os.popen(f'sudo nmap -sV -sU -p 161 --script=snmp-info {ip_address}').read().split('\\n')\n",
    "    # if DEBUG_MOD:\n",
    "    #     print(nmap_scan_result)\n",
    "    for i in nmap_scan_result:\n",
    "        if 'enterprise:' in i :\n",
    "            print(i.split('enterprise:')[1].strip())\n",
    "            return i.split('enterprise:')[1].strip()\n",
    "    print('brand not found')\n",
    "    return None"
   ]
  },
  {
   "cell_type": "code",
   "execution_count": 16,
   "id": "1708e573-a152-4cd2-b176-2981bfc2c4e6",
   "metadata": {
    "tags": []
   },
   "outputs": [],
   "source": [
    "def security_level_analysis(isp_name,enterprise_name):\n",
    "    with open(SECURITY_FILE) as file_input:\n",
    "        clean_network_list = json.load(file_input)\n",
    "    # if DEBUG_MOD:\n",
    "    #     print(clean_network_list)\n",
    "    if isp_name in clean_network_list['isp']['clean']:\n",
    "        if enterprise_name in clean_network_list['hdm']['clean']:\n",
    "            return 3\n",
    "        if enterprise_name in clean_network_list['hdm']['unclean']:\n",
    "            return -1\n",
    "        else:\n",
    "            return 1\n",
    "    elif isp_name in clean_network_list['isp']['unclean']:\n",
    "        return -1\n",
    "    else:\n",
    "        if enterprise_name in clean_network_list['hdm']['clean']:\n",
    "            return 2\n",
    "        if enterprise_name in clean_network_list['hdm']['unclean']:\n",
    "            return -1\n",
    "        else:\n",
    "            return 0\n",
    "    "
   ]
  },
  {
   "cell_type": "code",
   "execution_count": 17,
   "id": "709be9d8",
   "metadata": {},
   "outputs": [],
   "source": [
    "def ip_into_int(ip):\n",
    "    return reduce(lambda x,y:(x<<8)+y,map(int,ip.split('.')))\n",
    "\n",
    "def is_internal_ip(ip):\n",
    "    ip = ip_into_int(ip)\n",
    "    net_a = ip_into_int('10.255.255.255') >> 24\n",
    "    net_b = ip_into_int('172.31.255.255') >> 20\n",
    "    net_c = ip_into_int('192.168.255.255') >> 16\n",
    "    return ip >> 24 == net_a or ip >>20 == net_b or ip >> 16 == net_c"
   ]
  },
  {
   "cell_type": "code",
   "execution_count": 18,
   "id": "9284a767",
   "metadata": {
    "tags": []
   },
   "outputs": [],
   "source": [
    "def main(ip):\n",
    "    global INFO\n",
    "    if is_internal_ip(ip):\n",
    "        level = security_level_analysis('_Private_ip',get_router_brand(ip))\n",
    "    else:\n",
    "        INFO = requests.get(f'https://api.incolumitas.com/?q={ip}').json()\n",
    "        if DEBUG_MOD:\n",
    "            print(INFO)\n",
    "        level = security_level_analysis(get_router_telecom(),get_router_brand(ip))\n",
    "    print(CLEAN_LEVEL[security_level_analysis(get_router_telecom(),get_router_brand(ip))])\n",
    "    return level"
   ]
  },
  {
   "cell_type": "code",
   "execution_count": 19,
   "id": "8ed315f0-2d47-42dc-b4d4-27d47f9438dc",
   "metadata": {},
   "outputs": [
    {
     "name": "stdout",
     "output_type": "stream",
     "text": [
      "brand not found\n"
     ]
    },
    {
     "name": "stderr",
     "output_type": "stream",
     "text": [
      "sudo: a terminal is required to read the password; either use the -S option to read from standard input or configure an askpass helper\n",
      "sudo: a password is required\n"
     ]
    },
    {
     "ename": "TypeError",
     "evalue": "'NoneType' object is not subscriptable",
     "output_type": "error",
     "traceback": [
      "\u001b[0;31m---------------------------------------------------------------------------\u001b[0m",
      "\u001b[0;31mTypeError\u001b[0m                                 Traceback (most recent call last)",
      "Cell \u001b[0;32mIn[19], line 2\u001b[0m\n\u001b[1;32m      1\u001b[0m \u001b[39mif\u001b[39;00m \u001b[39m__name__\u001b[39m \u001b[39m==\u001b[39m \u001b[39m'\u001b[39m\u001b[39m__main__\u001b[39m\u001b[39m'\u001b[39m:\n\u001b[0;32m----> 2\u001b[0m     main(\u001b[39m'\u001b[39;49m\u001b[39m10.159.65.128\u001b[39;49m\u001b[39m'\u001b[39;49m)\n",
      "Cell \u001b[0;32mIn[18], line 10\u001b[0m, in \u001b[0;36mmain\u001b[0;34m(ip)\u001b[0m\n\u001b[1;32m      8\u001b[0m         \u001b[39mprint\u001b[39m(INFO)\n\u001b[1;32m      9\u001b[0m     level \u001b[39m=\u001b[39m security_level_analysis(get_router_telecom(),get_router_brand(ip))\n\u001b[0;32m---> 10\u001b[0m \u001b[39mprint\u001b[39m(CLEAN_LEVEL[security_level_analysis(get_router_telecom(),get_router_brand(ip))])\n\u001b[1;32m     11\u001b[0m \u001b[39mreturn\u001b[39;00m level\n",
      "Cell \u001b[0;32mIn[13], line 3\u001b[0m, in \u001b[0;36mget_router_telecom\u001b[0;34m()\u001b[0m\n\u001b[1;32m      1\u001b[0m \u001b[39mdef\u001b[39;00m \u001b[39mget_router_telecom\u001b[39m():\n\u001b[1;32m      2\u001b[0m     \u001b[39mglobal\u001b[39;00m INFO\n\u001b[0;32m----> 3\u001b[0m     \u001b[39mreturn\u001b[39;00m INFO[\u001b[39m'\u001b[39;49m\u001b[39masn\u001b[39;49m\u001b[39m'\u001b[39;49m][\u001b[39m'\u001b[39m\u001b[39mdescr\u001b[39m\u001b[39m'\u001b[39m]\n",
      "\u001b[0;31mTypeError\u001b[0m: 'NoneType' object is not subscriptable"
     ]
    }
   ],
   "source": [
    "if __name__ == '__main__':\n",
    "    main('10.159.65.128')"
   ]
  },
  {
   "cell_type": "code",
   "execution_count": null,
   "id": "884ad1f3",
   "metadata": {},
   "outputs": [
    {
     "data": {
      "text/plain": [
       "True"
      ]
     },
     "execution_count": 9,
     "metadata": {},
     "output_type": "execute_result"
    }
   ],
   "source": [
    "is_internal_ip('10.159.65.128')"
   ]
  }
 ],
 "metadata": {
  "kernelspec": {
   "display_name": "Python 3 (ipykernel)",
   "language": "python",
   "name": "python3"
  },
  "language_info": {
   "codemirror_mode": {
    "name": "ipython",
    "version": 3
   },
   "file_extension": ".py",
   "mimetype": "text/x-python",
   "name": "python",
   "nbconvert_exporter": "python",
   "pygments_lexer": "ipython3",
   "version": "3.11.0"
  }
 },
 "nbformat": 4,
 "nbformat_minor": 5
}
