{
 "cells": [
  {
   "cell_type": "code",
   "execution_count": 18,
   "id": "0b364915-f75e-424e-aed2-bf28d62eed14",
   "metadata": {
    "tags": []
   },
   "outputs": [],
   "source": [
    "import router_security\n",
    "import json\n",
    "import time \n",
    "import requests\n",
    "import os"
   ]
  },
  {
   "cell_type": "code",
   "execution_count": 16,
   "id": "d462c246",
   "metadata": {},
   "outputs": [
    {
     "name": "stdout",
     "output_type": "stream",
     "text": [
      "{'10.0.0.1': {'time': '1686899152.353969', 'brand': 'cisco', 'level': 5}}\n",
      "json {\"10.0.0.1\": {\"time\": 1686899168.4513128, \"brand\": \"cisco\", \"level\": 5}}\n"
     ]
    }
   ],
   "source": [
    "with open('local_ip_record.json','r') as file_input:\n",
    "    record = json.load(file_input)\n",
    "    print(record)\n",
    "    file_input.close()\n",
    "\n",
    "record['10.0.0.1'] = {'time':(time.time()),'brand':'cisco','level':5}\n",
    "\n",
    "with open('local_ip_record.json','w') as file:\n",
    "    print('json', (json.dumps(record)))\n",
    "    file.write((json.dumps(record)))\n",
    "    file.close()\n",
    "        \n"
   ]
  },
  {
   "cell_type": "code",
   "execution_count": 29,
   "id": "18749f60",
   "metadata": {},
   "outputs": [
    {
     "name": "stdout",
     "output_type": "stream",
     "text": [
      "42.77.97.93\n"
     ]
    }
   ],
   "source": [
    "myip = requests.get('https://api.bigdatacloud.net/data/client-ip').json()['ipString']\n",
    "print(myip)"
   ]
  },
  {
   "cell_type": "code",
   "execution_count": 114,
   "id": "bd795661",
   "metadata": {
    "tags": []
   },
   "outputs": [
    {
     "name": "stdout",
     "output_type": "stream",
     "text": [
      "SNMP scanning timeout. Doing OS detect...\n"
     ]
    },
    {
     "data": {
      "text/plain": [
       "{'snmp': None,\n",
       " 'os': {'name': 'F5 BIG-IP Local Traffic Manager load balancer (TMOS 11.6)',\n",
       "  'vendor': 'F5 Networks'},\n",
       " 'isp': None,\n",
       " 'location': None,\n",
       " 'time': None}"
      ]
     },
     "execution_count": 114,
     "metadata": {},
     "output_type": "execute_result"
    }
   ],
   "source": [
    "import nmap \n",
    "\n",
    "IP = '10.159.67.65'\n",
    "RESULT = {'snmp':None,'os':None,'isp':None,'location':None,'time':None}\n",
    "\n",
    "def detect_snmp_or_os():\n",
    "    nm = nmap.PortScanner()\n",
    "    try:\n",
    "        nm.scan(hosts=IP, arguments='-sU -sV -p 161 --script=snmp-info',timeout=10)\n",
    "        for info in nm[IP]['udp'][161]['script']['snmp-info'].split('\\n '):\n",
    "            if 'enterprise: ' in info:\n",
    "                brand = info[info.find('enterprise: ')+len('enterprise: '):]\n",
    "        # RESULT['snmp'] = {'name':nm[IP]['udp'][161]['product'],'vendor':brand}\n",
    "        return brand\n",
    "\n",
    "    except nmap.nmap.PortScannerTimeout:\n",
    "        print('SNMP scanning timeout. Doing OS detect...')\n",
    "        nm.scan(hosts=IP, arguments='-O')\n",
    "        # RESULT['os'] = {'name':nm[IP]['osmatch'][0]['name'],'vendor':nm[IP]['osmatch'][0]['osclass'][0]['vendor']}\n",
    "        return nm[IP]['osmatch'][0]['osclass'][0]['vendor']\n",
    "    except KeyError:\n",
    "        print('SNMP closed. Doing OS detect...')\n",
    "        nm.scan(hosts=IP, arguments='-O')\n",
    "        # RESULT['os'] = {'name':nm[IP]['osmatch'][0]['name'],'vendor':nm[IP]['osmatch'][0]['osclass'][0]['vendor']}\n",
    "        return nm[IP]['osmatch'][0]['osclass'][0]['vendor']\n",
    "        \n",
    "        \n",
    "detect_snmp_or_os()\n",
    "RESULT"
   ]
  },
  {
   "cell_type": "code",
   "execution_count": 115,
   "id": "59d20612-7f08-4a92-ac50-cf8913cb8686",
   "metadata": {
    "tags": []
   },
   "outputs": [
    {
     "name": "stdout",
     "output_type": "stream",
     "text": [
      "{'snmp': None, 'os': {'name': 'F5 BIG-IP Local Traffic Manager load balancer (TMOS 11.6)', 'vendor': 'F5 Networks'}, 'isp': {'isp_name': 'Mobile Business Group', 'isp_country': 'tw'}, 'location': {'location_country_code': 'TW'}, 'time': None}\n"
     ]
    }
   ],
   "source": [
    "import requests\n",
    "from functools import reduce\n",
    "MYIP = requests.get('https://api.bigdatacloud.net/data/client-ip').json()['ipString']\n",
    "\n",
    "def ip_into_int(ip):\n",
    "        return reduce(lambda x,y:(x<<8)+y,map(int,ip.split('.')))\n",
    "def is_internal_ip(ip):\n",
    "    ip = ip_into_int(ip)\n",
    "    net_a = ip_into_int('10.255.255.255') >> 24\n",
    "    net_b = ip_into_int('172.31.255.255') >> 20\n",
    "    net_c = ip_into_int('192.168.255.255') >> 16\n",
    "    return ip >> 24 == net_a or ip >>20 == net_b or ip >> 16 == net_c\n",
    "\n",
    "def detect_isp_and_location():\n",
    "    global RESULT\n",
    "\n",
    "    if is_internal_ip(IP):\n",
    "        search = requests.get(f'https://api.incolumitas.com/?q={MYIP}').json()\n",
    "    else:\n",
    "        search = requests.get(f'https://api.incolumitas.com/?q={IP}').json()\n",
    "    isp_name = search['asn']['org']\n",
    "    isp_country = search['asn']['country']\n",
    "\n",
    "    location_country_code = search['location']['country_code']\n",
    "    \n",
    "    RESULT['isp'] = {'isp_name':isp_name,'isp_country':isp_country}\n",
    "    RESULT['location'] = {'location_country_code':location_country_code}\n",
    "    print(RESULT)\n",
    "\n",
    "detect_isp_and_location()"
   ]
  },
  {
   "cell_type": "code",
   "execution_count": null,
   "id": "b898c41c-7683-44b3-856c-045d821c0f67",
   "metadata": {},
   "outputs": [],
   "source": [
    "def security_level_analysis():\n",
    "    with open(SECURITY_FILE) as file_input:\n",
    "        clean_network_list = json.load(file_input)\n",
    "    # if DEBUG_MOD:\n",
    "    #     print(clean_network_list)\n",
    "    if isp_name in clean_network_list['isp']['clean']:\n",
    "        if enterprise_name in clean_network_list['hdm']['clean']:\n",
    "            return 3\n",
    "        if enterprise_name in clean_network_list['hdm']['unclean']:\n",
    "            return -1\n",
    "        else:\n",
    "            return 1\n",
    "    elif isp_name in clean_network_list['isp']['unclean']:\n",
    "        return -1\n",
    "    else:\n",
    "        if enterprise_name in clean_network_list['hdm']['clean']:\n",
    "            return 2\n",
    "        if enterprise_name in clean_network_list['hdm']['unclean']:\n",
    "            return -1\n",
    "        else:\n",
    "            return 0"
   ]
  },
  {
   "cell_type": "code",
   "execution_count": 119,
   "id": "50bb48a4-8b16-442f-8ee1-fbb8f666543c",
   "metadata": {
    "tags": []
   },
   "outputs": [],
   "source": [
    "import time\n",
    "import json\n",
    "def save_result():\n",
    "    RESULT['ip'] = IP\n",
    "    if is_internal_ip(IP):\n",
    "        with open('local_ip_record.json','r') as file:\n",
    "            record : dict = json.load(file)\n",
    "            file.close()\n",
    "        RESULT['time'] = time.time()\n",
    "        RESULT['src'] = MYIP\n",
    "        record[IP] = RESULT\n",
    "        with open('local_ip_record.json','w') as file:\n",
    "            file.write(json.dumps(record))\n",
    "            file.close()\n",
    "    else:\n",
    "        requests.post(f'http://144.24.84.156/node',data=RESULT)\n",
    "save_result()"
   ]
  },
  {
   "cell_type": "code",
   "execution_count": null,
   "id": "4a588482-b5dd-4b41-aca8-2aad5780caba",
   "metadata": {},
   "outputs": [],
   "source": [
    "def check_time():\n",
    "    "
   ]
  }
 ],
 "metadata": {
  "kernelspec": {
   "display_name": "Python 3 (ipykernel)",
   "language": "python",
   "name": "python3"
  },
  "language_info": {
   "codemirror_mode": {
    "name": "ipython",
    "version": 3
   },
   "file_extension": ".py",
   "mimetype": "text/x-python",
   "name": "python",
   "nbconvert_exporter": "python",
   "pygments_lexer": "ipython3",
   "version": "3.11.0rc1"
  }
 },
 "nbformat": 4,
 "nbformat_minor": 5
}
